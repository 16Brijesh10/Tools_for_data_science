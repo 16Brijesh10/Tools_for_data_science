{
 "cells": [
  {
   "cell_type": "markdown",
   "id": "45c9513b",
   "metadata": {},
   "source": [
    "# Data Science Tools and Ecosystem"
   ]
  },
  {
   "cell_type": "markdown",
   "id": "4516998a",
   "metadata": {},
   "source": [
    "In this notebook, Data Science Tools and Ecosystem are summarized."
   ]
  },
  {
   "cell_type": "markdown",
   "id": "5f372b90",
   "metadata": {},
   "source": [
    "**Objectives:**\n",
    "\n",
    "- List popular languages for Data Science.\n",
    "- Explain the basic steps of the data preprocessing pipeline.\n",
    "- Introduce common libraries and tools used in Data Science.\n",
    "- Provide an overview of machine learning algorithms and their applications.\n",
    "- Discuss best practices for data visualization and communication in Data Science.\n"
   ]
  },
  {
   "cell_type": "markdown",
   "id": "8b67fb3e",
   "metadata": {},
   "source": [
    "### Some of the popular languages that Data Scientists use are:"
   ]
  },
  {
   "cell_type": "markdown",
   "id": "a2879e07",
   "metadata": {},
   "source": [
    "$ Python $\n",
    "$ R $\n",
    "$ SQL $\n",
    "$ Java $\n",
    "$ Julia $\n",
    "$ Scala $"
   ]
  },
  {
   "cell_type": "markdown",
   "id": "e6ec40de",
   "metadata": {},
   "source": [
    "### Some of the commonly used libraries used by Data Scientists include: "
   ]
  },
  {
   "cell_type": "markdown",
   "id": "f378c07e",
   "metadata": {},
   "source": [
    "TensorFlow.\n",
    "NumPy.\n",
    "SciPy.\n",
    "Pandas.\n",
    "Matplotlib.\n",
    "Keras.\n",
    "SciKit-Learn.\n",
    "PyTorch."
   ]
  },
  {
   "cell_type": "markdown",
   "id": "1871ebdd",
   "metadata": {},
   "source": [
    "### Data Science Tools"
   ]
  },
  {
   "cell_type": "markdown",
   "id": "282e5577",
   "metadata": {},
   "source": [
    "| Data Science Tools   |\n",
    "|----------------------|\n",
    "| Jupyter Notebook     |\n",
    "| RStudio              |\n",
    "| VS Code (with plugins|\n",
    "| for data science)    |\n"
   ]
  },
  {
   "cell_type": "markdown",
   "id": "284ced45",
   "metadata": {},
   "source": [
    "### Below are a few examples of evaluating arithmetic expressions in Python"
   ]
  },
  {
   "cell_type": "code",
   "execution_count": 2,
   "id": "696acd21",
   "metadata": {},
   "outputs": [
    {
     "name": "stdout",
     "output_type": "stream",
     "text": [
      "Result: 5\n"
     ]
    }
   ],
   "source": [
    "expression = \"2 + 3\"\n",
    "result = eval(expression)\n",
    "print(\"Result:\", result)  # Output: Result: 5\n"
   ]
  },
  {
   "cell_type": "markdown",
   "id": "d41a0636",
   "metadata": {},
   "source": [
    "### This a simple arithmetic expression to mutiply then add integer"
   ]
  },
  {
   "cell_type": "code",
   "execution_count": 4,
   "id": "76b30f92",
   "metadata": {},
   "outputs": [
    {
     "name": "stdout",
     "output_type": "stream",
     "text": [
      "12\n"
     ]
    }
   ],
   "source": [
    "a = 3\n",
    "b = 4\n",
    "c = 5\n",
    "multiply = a*b #output : 12\n",
    "print(multiply)"
   ]
  },
  {
   "cell_type": "code",
   "execution_count": 6,
   "id": "7af56dfa",
   "metadata": {},
   "outputs": [
    {
     "name": "stdout",
     "output_type": "stream",
     "text": [
      "17\n"
     ]
    }
   ],
   "source": [
    "add = multiply + c # output : 17\n",
    "print(add)\n"
   ]
  },
  {
   "cell_type": "markdown",
   "id": "1d143e28",
   "metadata": {},
   "source": [
    "### convert minutes to hours"
   ]
  },
  {
   "cell_type": "code",
   "execution_count": 8,
   "id": "2f2d245d",
   "metadata": {},
   "outputs": [
    {
     "name": "stdout",
     "output_type": "stream",
     "text": [
      "3.3333333333333335\n"
     ]
    }
   ],
   "source": [
    "minutes = 200\n",
    "hours = minutes/60  #his will convert 200 minutes to hours by diving by 60.\n",
    "print(hours)"
   ]
  },
  {
   "cell_type": "markdown",
   "id": "fa14291a",
   "metadata": {},
   "source": [
    "## Author\n",
    "Brijesh A\n"
   ]
  }
 ],
 "metadata": {
  "kernelspec": {
   "display_name": "Python 3 (ipykernel)",
   "language": "python",
   "name": "python3"
  },
  "language_info": {
   "codemirror_mode": {
    "name": "ipython",
    "version": 3
   },
   "file_extension": ".py",
   "mimetype": "text/x-python",
   "name": "python",
   "nbconvert_exporter": "python",
   "pygments_lexer": "ipython3",
   "version": "3.9.13"
  }
 },
 "nbformat": 4,
 "nbformat_minor": 5
}
